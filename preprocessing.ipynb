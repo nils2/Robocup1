{
 "cells": [
  {
   "cell_type": "code",
   "execution_count": 1,
   "metadata": {},
   "outputs": [],
   "source": [
    "from PIL import Image\n",
    "import os\n",
    "import numpy as np\n",
    "import cv2 as cv\n",
    "from matplotlib import pyplot as plt\n",
    "import matplotlib.image as mpimg"
   ]
  },
  {
   "cell_type": "code",
   "execution_count": 2,
   "metadata": {},
   "outputs": [],
   "source": [
    "def load_images_from_folder(folder):\n",
    "    images = []\n",
    "    for filename in os.listdir(folder):\n",
    "        img = Image.open(os.path.join(folder,filename))\n",
    "        images.append(img)\n",
    "    return images"
   ]
  },
  {
   "cell_type": "code",
   "execution_count": 3,
   "metadata": {},
   "outputs": [],
   "source": [
    "images = load_images_from_folder('imageset_131')"
   ]
  },
  {
   "cell_type": "code",
   "execution_count": 4,
   "metadata": {},
   "outputs": [],
   "source": [
    "# image = cv.imread('01_06_2018__17_17_01_0088_upper.png')\n",
    "# lower = np.array([40, 100, 100])\n",
    "# upper = np.array([80, 255, 255])\n",
    "\n",
    "# mask = cv.inRange(image, (36, 25, 25), (70, 255,255))\n",
    "# output = cv.bitwise_and(image, image, mask = mask)\n",
    " \n",
    "# cv.imshow('green filter', output)\n",
    "# cv.waitKey(100)"
   ]
  },
  {
   "cell_type": "code",
   "execution_count": 5,
   "metadata": {},
   "outputs": [],
   "source": [
    "# img = cv.imread('01_06_2018__17_17_01_0088_upper.png')\n",
    "\n",
    "# for x in range(width):\n",
    "#     for y in range(height):\n",
    "#         img[x,y] = [rgb(124,252,0)]"
   ]
  },
  {
   "cell_type": "code",
   "execution_count": 6,
   "metadata": {},
   "outputs": [],
   "source": [
    "# img = mpimg.imread('16_02_2018__11_18_08_0067_upper.png')\n",
    "# imgplot = plt.imshow(img)\n",
    "# lum_img = img[:, :, 0]\n",
    "# plt.imshow(lum_img, cmap=\"hot\")\n",
    "# plt.savefig('hot.png')"
   ]
  },
  {
   "cell_type": "code",
   "execution_count": 7,
   "metadata": {},
   "outputs": [],
   "source": [
    "def auto_canny(image, sigma=0.5):\n",
    "    # compute the median of the single channel pixel intensities\n",
    "    v = np.median(image)\n",
    "\n",
    "    # apply automatic Canny edge detection using the computed median\n",
    "    lower = int(max(0, (1.0 - sigma) * v))\n",
    "    upper = int(min(255, (1.0 + sigma) * v))\n",
    "    edged = cv.Canny(image, lower, upper)\n",
    "\n",
    "    # return the edged image\n",
    "    return edged\n",
    "\n",
    "def new_name(name):\n",
    "    split = name.split('/')\n",
    "    return split[1].replace('upper', 'canny')\n",
    "\n",
    "#rawImage = cv.imread('noise_cancel_2.png', 0)\n",
    "#bilateral_filtered_image = cv.bilateralFilter(rawImage, 7, 800, 200)\n",
    "#negative = cv.bitwise_not(edge_detected_image)\n",
    "\n",
    "for image in images:\n",
    "    img = cv.imread(image.filename)\n",
    "    dst = cv.fastNlMeansDenoisingColored(img, None, 15, 21, 7, 10)\n",
    "    cv.imwrite(new_name(image.filename), auto_canny(dst))"
   ]
  },
  {
   "cell_type": "code",
   "execution_count": 8,
   "metadata": {},
   "outputs": [],
   "source": [
    "# img = cv.imread('20768_neg_up_log_0_crop_51_0_67_16.png', 0)\n",
    "# th2 = cv.adaptiveThreshold(img,255,cv.ADAPTIVE_THRESH_MEAN_C,\\\n",
    "#             cv.THRESH_BINARY,11,2)\n",
    "# th3 = cv.adaptiveThreshold(img,255,cv.ADAPTIVE_THRESH_GAUSSIAN_C,\\\n",
    "#             cv.THRESH_BINARY,11,2)\n",
    "\n",
    "# images = [th2, th3]\n",
    "# for i in range(2):\n",
    "#     plt.subplot(2,2,i+1),plt.imshow(images[i],'gray')\n",
    "#     plt.xticks([]),plt.yticks([])\n",
    "    \n",
    "# plt.show()"
   ]
  },
  {
   "cell_type": "code",
   "execution_count": 9,
   "metadata": {},
   "outputs": [],
   "source": [
    "# # for image in images:\n",
    "# filename =  'noise_cancel_3.png'\n",
    "\n",
    "# # Loads an image\n",
    "# src = cv.imread(filename, cv.IMREAD_COLOR)\n",
    "# gray = cv.cvtColor(src, cv.COLOR_RGB2GRAY)\n",
    "# gray = cv.medianBlur(gray, 5)\n",
    "\n",
    "# rows = gray.shape[0]\n",
    "# circles = cv.HoughCircles(gray, cv.HOUGH_GRADIENT, 1, rows / 8,\n",
    "#                            param1=100, param2=30,\n",
    "#                            minRadius=0, maxRadius=0)\n",
    "\n",
    "# if circles is not None:\n",
    "#     circles = np.uint16(np.around(circles))\n",
    "#     for i in circles[0, :]:\n",
    "#         center = (i[0], i[1])\n",
    "#         # circle center\n",
    "#         cv.circle(src, center, 1, (0, 100, 100), 3)\n",
    "#         # circle outline\n",
    "#         radius = i[2]\n",
    "#         cv.circle(src, center, radius, (255, 0, 255), 3)\n",
    "\n",
    "# cv.imshow('detected circles', src)\n",
    "# cv.waitKey(30000)\n",
    "# #cv.imwrite('circles_2.png', src)"
   ]
  }
 ],
 "metadata": {
  "kernelspec": {
   "display_name": "Python 3",
   "language": "python",
   "name": "python3"
  },
  "language_info": {
   "codemirror_mode": {
    "name": "ipython",
    "version": 3
   },
   "file_extension": ".py",
   "mimetype": "text/x-python",
   "name": "python",
   "nbconvert_exporter": "python",
   "pygments_lexer": "ipython3",
   "version": "3.6.3"
  }
 },
 "nbformat": 4,
 "nbformat_minor": 2
}
